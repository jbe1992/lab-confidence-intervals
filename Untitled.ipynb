{
 "cells": [
  {
   "cell_type": "code",
   "execution_count": 3,
   "metadata": {},
   "outputs": [],
   "source": [
    "import scipy.stats as spst\n",
    "from scipy import mean, var\n",
    "from math import sqrt"
   ]
  },
  {
   "cell_type": "code",
   "execution_count": 4,
   "metadata": {},
   "outputs": [
    {
     "name": "stdout",
     "output_type": "stream",
     "text": [
      "(7.173477459423419, 8.926522540576583)\n",
      "(7.009625602866513, 9.090374397133488)\n"
     ]
    }
   ],
   "source": [
    "data = [10,0,10,10,12,5,6,7,6,14,7,18,6,13,7,6,9,5,6,4]\n",
    "n = len(data)\n",
    "mu = mean(data)\n",
    "sigma = 2\n",
    "print(spst.norm.interval(0.95, loc = mu, scale = sigma/sqrt(n)))\n",
    "#print(spst.norm.interval(0.95, loc = 7, scale = 2/sqrt(20)))\n",
    "\n",
    "print(spst.norm.interval(0.98, loc = mu, scale = sigma/sqrt(n)))\n",
    "#print(spst.norm.interval(0.98, loc = 7, scale = 2/sqrt(20)))"
   ]
  },
  {
   "cell_type": "code",
   "execution_count": 5,
   "metadata": {},
   "outputs": [
    {
     "data": {
      "text/plain": [
       "(-0.11455841182195303, 1.654558411821962)"
      ]
     },
     "execution_count": 5,
     "metadata": {},
     "output_type": "execute_result"
    }
   ],
   "source": [
    "morning = [169.7, 168.5, 165.9, 177.8, 179.6, 168.9, 169.2, 167.9, 181.1, 163.3]\n",
    "night = [168.2, 166.4, 166.7, 177.2, 177.9, 168.0, 169.5, 166.7, 182.5, 161.1]\n",
    "mu_mo = mean(morning)\n",
    "mu_ni = mean(night)\n",
    "n_mo = len(morning)\n",
    "n_ni = len(night)\n",
    "dif = list(map(lambda x: x[0] - x[1], zip(morning,night)))\n",
    "D = mean(list(map(lambda x: x[0] - x[1], zip(morning,night))))\n",
    "spst.t.interval(0.95, 9, loc = D, scale = spst.sem(dif))"
   ]
  },
  {
   "cell_type": "code",
   "execution_count": null,
   "metadata": {},
   "outputs": [],
   "source": []
  }
 ],
 "metadata": {
  "kernelspec": {
   "display_name": "Python 3",
   "language": "python",
   "name": "python3"
  },
  "language_info": {
   "codemirror_mode": {
    "name": "ipython",
    "version": 3
   },
   "file_extension": ".py",
   "mimetype": "text/x-python",
   "name": "python",
   "nbconvert_exporter": "python",
   "pygments_lexer": "ipython3",
   "version": "3.7.2"
  }
 },
 "nbformat": 4,
 "nbformat_minor": 2
}
